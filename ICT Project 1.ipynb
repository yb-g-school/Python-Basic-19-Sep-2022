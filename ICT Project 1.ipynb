{
 "cells": [
  {
   "cell_type": "code",
   "execution_count": null,
   "metadata": {},
   "outputs": [],
   "source": [
    "# Program to calculate BMI\n",
    "height = float(input(\"Enter your height in cm: \"))\n",
    "weight = float(input(\"Enter your weight in kg: \"))\n",
    "\n",
    "bmi = weight / (height/100)**2\n",
    "\n",
    "print(\"You BMI  is :: \", bmi)\n",
    "\n",
    "if bmi <= 18.4:\n",
    "    print(\"You are underweight.\")\n",
    "elif bmi <= 24.9:\n",
    "    print(\"You are healthy.\")\n",
    "elif bmi <= 29.9:\n",
    "    print(\"You are over weight.\")\n",
    "elif bmi <= 34.9:\n",
    "    print(\"You are severely over weight.\")\n",
    "elif bmi <= 39.9:\n",
    "    print(\"You are obese.\")\n",
    "else:\n",
    "    print(\"You are severely obese.\")\n"
   ]
  }
 ],
 "metadata": {
  "kernelspec": {
   "display_name": "Python 3.10.7 64-bit (windows store)",
   "language": "python",
   "name": "python3"
  },
  "language_info": {
   "codemirror_mode": {
    "name": "ipython",
    "version": 3
   },
   "file_extension": ".py",
   "mimetype": "text/x-python",
   "name": "python",
   "nbconvert_exporter": "python",
   "pygments_lexer": "ipython3",
   "version": "3.10.7"
  },
  "orig_nbformat": 4,
  "vscode": {
   "interpreter": {
    "hash": "addd732910d138da6e81d3b5ba5cf1376ede15256bc4cec81e782871a3d4052f"
   }
  }
 },
 "nbformat": 4,
 "nbformat_minor": 2
}
